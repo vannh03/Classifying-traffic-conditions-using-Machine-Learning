{
 "cells": [
  {
   "cell_type": "markdown",
   "id": "d87019e5",
   "metadata": {},
   "source": [
    "# Exploratory Data Analysis\n",
    "1. Distribution of Male and Female \n",
    " - Bar Chart\n",
    " - Pie Chart\n",
    "2. What Distribution of size of all Images\n",
    " - Histogram\n",
    " - Box Plot\n",
    " - Split by “Gender”\n",
    "3. Make the decision of width & height to resize using above chart.\n",
    "4. Remove the few images that are having very less size"
   ]
  },
  {
   "cell_type": "code",
   "execution_count": 1,
   "id": "41e50119",
   "metadata": {},
   "outputs": [],
   "source": [
    "import numpy as np\n",
    "import pandas as pd\n",
    "import matplotlib.pyplot as plt\n",
    "import seaborn as sns\n",
    "import cv2\n",
    "from glob import glob"
   ]
  },
  {
   "cell_type": "code",
   "execution_count": 2,
   "id": "d2482e2c",
   "metadata": {},
   "outputs": [],
   "source": [
    "import warnings\n",
    "warnings.filterwarnings('ignore')"
   ]
  },
  {
   "cell_type": "code",
   "execution_count": 3,
   "id": "50456f2f",
   "metadata": {},
   "outputs": [],
   "source": [
    "epath = glob('D:/Final_Project/traffic/Final Dataset/training/Empty/*.jpg')\n",
    "lpath = glob('D:/Final_Project/traffic/Final Dataset/training/Low/*.jpg')\n",
    "mpath = glob('D:/Final_Project/traffic/Final Dataset/training/Medium/*.jpg')\n",
    "hpath = glob('D:/Final_Project/traffic/Final Dataset/training/High/*.jpg')\n",
    "tpath = glob('D:/Final_Project/traffic/Final Dataset/training/Traffic Jam/*.jpg')\n"
   ]
  },
  {
   "cell_type": "code",
   "execution_count": 4,
   "id": "9f5b675e",
   "metadata": {},
   "outputs": [
    {
     "data": {
      "text/html": [
       "<div>\n",
       "<style scoped>\n",
       "    .dataframe tbody tr th:only-of-type {\n",
       "        vertical-align: middle;\n",
       "    }\n",
       "\n",
       "    .dataframe tbody tr th {\n",
       "        vertical-align: top;\n",
       "    }\n",
       "\n",
       "    .dataframe thead th {\n",
       "        text-align: right;\n",
       "    }\n",
       "</style>\n",
       "<table border=\"1\" class=\"dataframe\">\n",
       "  <thead>\n",
       "    <tr style=\"text-align: right;\">\n",
       "      <th></th>\n",
       "      <th>filepath</th>\n",
       "      <th>status</th>\n",
       "    </tr>\n",
       "  </thead>\n",
       "  <tbody>\n",
       "    <tr>\n",
       "      <th>0</th>\n",
       "      <td>D:/Final_Project/traffic/Final Dataset/trainin...</td>\n",
       "      <td>empty</td>\n",
       "    </tr>\n",
       "    <tr>\n",
       "      <th>1</th>\n",
       "      <td>D:/Final_Project/traffic/Final Dataset/trainin...</td>\n",
       "      <td>empty</td>\n",
       "    </tr>\n",
       "    <tr>\n",
       "      <th>2</th>\n",
       "      <td>D:/Final_Project/traffic/Final Dataset/trainin...</td>\n",
       "      <td>empty</td>\n",
       "    </tr>\n",
       "    <tr>\n",
       "      <th>3</th>\n",
       "      <td>D:/Final_Project/traffic/Final Dataset/trainin...</td>\n",
       "      <td>empty</td>\n",
       "    </tr>\n",
       "    <tr>\n",
       "      <th>4</th>\n",
       "      <td>D:/Final_Project/traffic/Final Dataset/trainin...</td>\n",
       "      <td>empty</td>\n",
       "    </tr>\n",
       "  </tbody>\n",
       "</table>\n",
       "</div>"
      ],
      "text/plain": [
       "                                            filepath status\n",
       "0  D:/Final_Project/traffic/Final Dataset/trainin...  empty\n",
       "1  D:/Final_Project/traffic/Final Dataset/trainin...  empty\n",
       "2  D:/Final_Project/traffic/Final Dataset/trainin...  empty\n",
       "3  D:/Final_Project/traffic/Final Dataset/trainin...  empty\n",
       "4  D:/Final_Project/traffic/Final Dataset/trainin...  empty"
      ]
     },
     "execution_count": 4,
     "metadata": {},
     "output_type": "execute_result"
    }
   ],
   "source": [
    "df_empty = pd.DataFrame(epath,columns=['filepath'])\n",
    "df_empty['status'] = 'empty'\n",
    "\n",
    "df_low = pd.DataFrame(lpath,columns=['filepath'])\n",
    "df_low['status'] = 'low'\n",
    "\n",
    "df_medium = pd.DataFrame(mpath,columns=['filepath'])\n",
    "df_medium['status'] = 'medium'\n",
    "\n",
    "df_high = pd.DataFrame(hpath,columns=['filepath'])\n",
    "df_high['status'] = 'high'\n",
    "\n",
    "df_traffic_jam = pd.DataFrame(tpath,columns=['filepath'])\n",
    "df_traffic_jam['status'] = 'jam'\n",
    "\n",
    "\n",
    "df = pd.concat((df_empty, df_low, df_medium, df_high, df_traffic_jam),axis=0)\n",
    "\n",
    "df.head()"
   ]
  },
  {
   "cell_type": "code",
   "execution_count": 5,
   "id": "1cc27659",
   "metadata": {},
   "outputs": [
    {
     "data": {
      "text/html": [
       "<div>\n",
       "<style scoped>\n",
       "    .dataframe tbody tr th:only-of-type {\n",
       "        vertical-align: middle;\n",
       "    }\n",
       "\n",
       "    .dataframe tbody tr th {\n",
       "        vertical-align: top;\n",
       "    }\n",
       "\n",
       "    .dataframe thead th {\n",
       "        text-align: right;\n",
       "    }\n",
       "</style>\n",
       "<table border=\"1\" class=\"dataframe\">\n",
       "  <thead>\n",
       "    <tr style=\"text-align: right;\">\n",
       "      <th></th>\n",
       "      <th>filepath</th>\n",
       "      <th>status</th>\n",
       "    </tr>\n",
       "  </thead>\n",
       "  <tbody>\n",
       "    <tr>\n",
       "      <th>176</th>\n",
       "      <td>D:/Final_Project/traffic/Final Dataset/trainin...</td>\n",
       "      <td>jam</td>\n",
       "    </tr>\n",
       "    <tr>\n",
       "      <th>177</th>\n",
       "      <td>D:/Final_Project/traffic/Final Dataset/trainin...</td>\n",
       "      <td>jam</td>\n",
       "    </tr>\n",
       "    <tr>\n",
       "      <th>178</th>\n",
       "      <td>D:/Final_Project/traffic/Final Dataset/trainin...</td>\n",
       "      <td>jam</td>\n",
       "    </tr>\n",
       "    <tr>\n",
       "      <th>179</th>\n",
       "      <td>D:/Final_Project/traffic/Final Dataset/trainin...</td>\n",
       "      <td>jam</td>\n",
       "    </tr>\n",
       "    <tr>\n",
       "      <th>180</th>\n",
       "      <td>D:/Final_Project/traffic/Final Dataset/trainin...</td>\n",
       "      <td>jam</td>\n",
       "    </tr>\n",
       "  </tbody>\n",
       "</table>\n",
       "</div>"
      ],
      "text/plain": [
       "                                              filepath status\n",
       "176  D:/Final_Project/traffic/Final Dataset/trainin...    jam\n",
       "177  D:/Final_Project/traffic/Final Dataset/trainin...    jam\n",
       "178  D:/Final_Project/traffic/Final Dataset/trainin...    jam\n",
       "179  D:/Final_Project/traffic/Final Dataset/trainin...    jam\n",
       "180  D:/Final_Project/traffic/Final Dataset/trainin...    jam"
      ]
     },
     "execution_count": 5,
     "metadata": {},
     "output_type": "execute_result"
    }
   ],
   "source": [
    "df.tail()"
   ]
  },
  {
   "cell_type": "code",
   "execution_count": 6,
   "id": "d1fc1655",
   "metadata": {},
   "outputs": [
    {
     "data": {
      "text/plain": [
       "(3060, 2)"
      ]
     },
     "execution_count": 6,
     "metadata": {},
     "output_type": "execute_result"
    }
   ],
   "source": [
    "df.shape"
   ]
  },
  {
   "cell_type": "code",
   "execution_count": 7,
   "id": "1e1dff45",
   "metadata": {},
   "outputs": [],
   "source": [
    "def get_size(path):\n",
    "    img = cv2.imread(path)\n",
    "    return img.shape[0]"
   ]
  },
  {
   "cell_type": "code",
   "execution_count": 8,
   "id": "249ac74d",
   "metadata": {},
   "outputs": [],
   "source": [
    "df['dimension'] = df['filepath'].apply(get_size) # store dimension of image in this columns"
   ]
  },
  {
   "cell_type": "code",
   "execution_count": 9,
   "id": "9b598742",
   "metadata": {},
   "outputs": [
    {
     "data": {
      "text/html": [
       "<div>\n",
       "<style scoped>\n",
       "    .dataframe tbody tr th:only-of-type {\n",
       "        vertical-align: middle;\n",
       "    }\n",
       "\n",
       "    .dataframe tbody tr th {\n",
       "        vertical-align: top;\n",
       "    }\n",
       "\n",
       "    .dataframe thead th {\n",
       "        text-align: right;\n",
       "    }\n",
       "</style>\n",
       "<table border=\"1\" class=\"dataframe\">\n",
       "  <thead>\n",
       "    <tr style=\"text-align: right;\">\n",
       "      <th></th>\n",
       "      <th>filepath</th>\n",
       "      <th>status</th>\n",
       "      <th>dimension</th>\n",
       "    </tr>\n",
       "  </thead>\n",
       "  <tbody>\n",
       "    <tr>\n",
       "      <th>0</th>\n",
       "      <td>D:/Final_Project/traffic/Final Dataset/trainin...</td>\n",
       "      <td>empty</td>\n",
       "      <td>360</td>\n",
       "    </tr>\n",
       "    <tr>\n",
       "      <th>1</th>\n",
       "      <td>D:/Final_Project/traffic/Final Dataset/trainin...</td>\n",
       "      <td>empty</td>\n",
       "      <td>240</td>\n",
       "    </tr>\n",
       "    <tr>\n",
       "      <th>2</th>\n",
       "      <td>D:/Final_Project/traffic/Final Dataset/trainin...</td>\n",
       "      <td>empty</td>\n",
       "      <td>480</td>\n",
       "    </tr>\n",
       "    <tr>\n",
       "      <th>3</th>\n",
       "      <td>D:/Final_Project/traffic/Final Dataset/trainin...</td>\n",
       "      <td>empty</td>\n",
       "      <td>480</td>\n",
       "    </tr>\n",
       "    <tr>\n",
       "      <th>4</th>\n",
       "      <td>D:/Final_Project/traffic/Final Dataset/trainin...</td>\n",
       "      <td>empty</td>\n",
       "      <td>240</td>\n",
       "    </tr>\n",
       "  </tbody>\n",
       "</table>\n",
       "</div>"
      ],
      "text/plain": [
       "                                            filepath status  dimension\n",
       "0  D:/Final_Project/traffic/Final Dataset/trainin...  empty        360\n",
       "1  D:/Final_Project/traffic/Final Dataset/trainin...  empty        240\n",
       "2  D:/Final_Project/traffic/Final Dataset/trainin...  empty        480\n",
       "3  D:/Final_Project/traffic/Final Dataset/trainin...  empty        480\n",
       "4  D:/Final_Project/traffic/Final Dataset/trainin...  empty        240"
      ]
     },
     "execution_count": 9,
     "metadata": {},
     "output_type": "execute_result"
    }
   ],
   "source": [
    "df.head()"
   ]
  },
  {
   "cell_type": "markdown",
   "id": "a81a8aa5",
   "metadata": {},
   "source": [
    "#### Exploratory Data Analysis\n",
    "1. Distribution of Male and Female \n",
    " - Bar Chart\n",
    " - Pie Chart\n",
    "2. What Distribution of size of all Images\n",
    " - Histogram\n",
    " - Box Plot\n",
    " - Split by “Gender”\n",
    "3. Make the decision of width & height to resize using above chart.\n",
    "4. Remove the few images that are having very less size"
   ]
  },
  {
   "cell_type": "code",
   "execution_count": 11,
   "id": "97cff17a",
   "metadata": {},
   "outputs": [
    {
     "data": {
      "text/plain": [
       "low       936\n",
       "empty     877\n",
       "medium    688\n",
       "high      378\n",
       "jam       181\n",
       "Name: status, dtype: int64"
      ]
     },
     "execution_count": 11,
     "metadata": {},
     "output_type": "execute_result"
    }
   ],
   "source": [
    "dist_status = df['status'].value_counts()\n",
    "dist_status"
   ]
  },
  {
   "cell_type": "code",
   "execution_count": 12,
   "id": "d71b70d4",
   "metadata": {},
   "outputs": [
    {
     "data": {
      "image/png": "[encoded data removed]",
      "text/plain": [
       "<Figure size 640x480 with 2 Axes>"
      ]
     },
     "metadata": {},
     "output_type": "display_data"
    }
   ],
   "source": [
    "fig,ax = plt.subplots(nrows=1,ncols=2)\n",
    "dist_status.plot(kind='bar',ax=ax[0])\n",
    "dist_status.plot(kind='pie',ax=ax[1],autopct='%0.0f%%')\n",
    "plt.show()"
   ]
  },
  {
   "cell_type": "code",
   "execution_count": 13,
   "id": "0faccd54",
   "metadata": {},
   "outputs": [
    {
     "data": {
      "image/png": "[encoded data removed]",
      "text/plain": [
       "<Figure size 1200x600 with 2 Axes>"
      ]
     },
     "metadata": {},
     "output_type": "display_data"
    }
   ],
   "source": [
    "# What Distribution of size of all Images\n",
    "# Histogram\n",
    "# Box Plot\n",
    "# Split by “Status”\n",
    "plt.figure(figsize=(12,6))\n",
    "plt.subplot(2,1,1)\n",
    "sns.histplot(df['dimension'])\n",
    "plt.subplot(2,1,2)\n",
    "sns.boxplot(df['dimension'])\n",
    "plt.show()"
   ]
  },
  {
   "cell_type": "code",
   "execution_count": 14,
   "id": "9cfd8fd5",
   "metadata": {},
   "outputs": [
    {
     "data": {
      "text/plain": [
       "<seaborn.axisgrid.FacetGrid at 0x2592c97b4f0>"
      ]
     },
     "execution_count": 14,
     "metadata": {},
     "output_type": "execute_result"
    },
    {
     "data": {
      "image/png": "[encoded data removed]",
      "text/plain": [
       "<Figure size 500x500 with 1 Axes>"
      ]
     },
     "metadata": {},
     "output_type": "display_data"
    }
   ],
   "source": [
    "sns.catplot(data=df,x='status',y='dimension',kind='box')"
   ]
  },
  {
   "cell_type": "code",
   "execution_count": null,
   "id": "1cb9984e",
   "metadata": {},
   "outputs": [],
   "source": []
  },
  {
   "cell_type": "markdown",
   "id": "216d9615",
   "metadata": {},
   "source": [
    "1. We have almost equal distrbution of gender (numbers)\n",
    "2. Most of the images are having dimension more than 60\n",
    "3. Female most of the female images are HD compare to male images\n",
    "\n",
    "---\n",
    "- **Consider the image with dimensions more than 250**\n",
    "- **Resize all the the image into 300 x 300**"
   ]
  },
  {
   "cell_type": "code",
   "execution_count": 17,
   "id": "20c42ea0",
   "metadata": {},
   "outputs": [
    {
     "data": {
      "text/plain": [
       "(2784, 3)"
      ]
     },
     "execution_count": 17,
     "metadata": {},
     "output_type": "execute_result"
    }
   ],
   "source": [
    "df_filter = df.query('dimension > 250')\n",
    "df_filter.shape"
   ]
  },
  {
   "cell_type": "code",
   "execution_count": 18,
   "id": "8a52548d",
   "metadata": {},
   "outputs": [
    {
     "data": {
      "text/plain": [
       "low       0.327945\n",
       "medium    0.246408\n",
       "empty     0.235632\n",
       "high      0.135417\n",
       "jam       0.054598\n",
       "Name: status, dtype: float64"
      ]
     },
     "execution_count": 18,
     "metadata": {},
     "output_type": "execute_result"
    }
   ],
   "source": [
    "df_filter['status'].value_counts(normalize=True)"
   ]
  },
  {
   "cell_type": "markdown",
   "id": "d15bc610",
   "metadata": {},
   "source": [
    "#### Structure the image \n",
    "- 300 x 300"
   ]
  },
  {
   "cell_type": "code",
   "execution_count": 19,
   "id": "62517f04",
   "metadata": {},
   "outputs": [],
   "source": [
    "def structuring(path):\n",
    "    try:\n",
    "\n",
    "        # step - 1: read image\n",
    "        img = cv2.imread(path) # BGR\n",
    "        # step - 2: convert into grayscale\n",
    "        gray = cv2.cvtColor(img,cv2.COLOR_BGR2GRAY)\n",
    "        # step -3: resize into 300 x 300 array   \n",
    "\n",
    "        size = gray.shape[0]\n",
    "        if size >= 100:\n",
    "            # cv2.INTER_AREA (SHINK)\n",
    "            gray_resize = cv2.resize(gray,(300,300),cv2.INTER_AREA)\n",
    "        else:\n",
    "            # cv2.INTER_CUBIC (ENLARGE)\n",
    "            gray_resize = cv2.resize(gray,(300,300),cv2.INTER_CUBIC)\n",
    "\n",
    "        # step -4: Flatten Image \n",
    "        flatten_image = gray_resize.flatten()\n",
    "        return flatten_image\n",
    "    \n",
    "    except:\n",
    "        return None"
   ]
  },
  {
   "cell_type": "code",
   "execution_count": 20,
   "id": "fed86cc6",
   "metadata": {},
   "outputs": [
    {
     "data": {
      "text/html": [
       "<div>\n",
       "<style scoped>\n",
       "    .dataframe tbody tr th:only-of-type {\n",
       "        vertical-align: middle;\n",
       "    }\n",
       "\n",
       "    .dataframe tbody tr th {\n",
       "        vertical-align: top;\n",
       "    }\n",
       "\n",
       "    .dataframe thead th {\n",
       "        text-align: right;\n",
       "    }\n",
       "</style>\n",
       "<table border=\"1\" class=\"dataframe\">\n",
       "  <thead>\n",
       "    <tr style=\"text-align: right;\">\n",
       "      <th></th>\n",
       "      <th>filepath</th>\n",
       "      <th>status</th>\n",
       "      <th>dimension</th>\n",
       "      <th>data</th>\n",
       "    </tr>\n",
       "  </thead>\n",
       "  <tbody>\n",
       "    <tr>\n",
       "      <th>0</th>\n",
       "      <td>D:/Final_Project/traffic/Final Dataset/trainin...</td>\n",
       "      <td>empty</td>\n",
       "      <td>360</td>\n",
       "      <td>[255, 255, 255, 255, 255, 255, 255, 253, 253, ...</td>\n",
       "    </tr>\n",
       "    <tr>\n",
       "      <th>2</th>\n",
       "      <td>D:/Final_Project/traffic/Final Dataset/trainin...</td>\n",
       "      <td>empty</td>\n",
       "      <td>480</td>\n",
       "      <td>[253, 253, 254, 254, 254, 254, 254, 254, 252, ...</td>\n",
       "    </tr>\n",
       "    <tr>\n",
       "      <th>3</th>\n",
       "      <td>D:/Final_Project/traffic/Final Dataset/trainin...</td>\n",
       "      <td>empty</td>\n",
       "      <td>480</td>\n",
       "      <td>[114, 120, 120, 113, 110, 115, 110, 101, 100, ...</td>\n",
       "    </tr>\n",
       "    <tr>\n",
       "      <th>6</th>\n",
       "      <td>D:/Final_Project/traffic/Final Dataset/trainin...</td>\n",
       "      <td>empty</td>\n",
       "      <td>480</td>\n",
       "      <td>[253, 253, 254, 254, 254, 254, 254, 254, 252, ...</td>\n",
       "    </tr>\n",
       "    <tr>\n",
       "      <th>8</th>\n",
       "      <td>D:/Final_Project/traffic/Final Dataset/trainin...</td>\n",
       "      <td>empty</td>\n",
       "      <td>480</td>\n",
       "      <td>[253, 253, 253, 253, 254, 254, 254, 253, 251, ...</td>\n",
       "    </tr>\n",
       "  </tbody>\n",
       "</table>\n",
       "</div>"
      ],
      "text/plain": [
       "                                            filepath status  dimension  \\\n",
       "0  D:/Final_Project/traffic/Final Dataset/trainin...  empty        360   \n",
       "2  D:/Final_Project/traffic/Final Dataset/trainin...  empty        480   \n",
       "3  D:/Final_Project/traffic/Final Dataset/trainin...  empty        480   \n",
       "6  D:/Final_Project/traffic/Final Dataset/trainin...  empty        480   \n",
       "8  D:/Final_Project/traffic/Final Dataset/trainin...  empty        480   \n",
       "\n",
       "                                                data  \n",
       "0  [255, 255, 255, 255, 255, 255, 255, 253, 253, ...  \n",
       "2  [253, 253, 254, 254, 254, 254, 254, 254, 252, ...  \n",
       "3  [114, 120, 120, 113, 110, 115, 110, 101, 100, ...  \n",
       "6  [253, 253, 254, 254, 254, 254, 254, 254, 252, ...  \n",
       "8  [253, 253, 253, 253, 254, 254, 254, 253, 251, ...  "
      ]
     },
     "execution_count": 20,
     "metadata": {},
     "output_type": "execute_result"
    }
   ],
   "source": [
    "df_filter['data'] = df_filter['filepath'].apply(structuring) # convert all images into 300 x 300\n",
    "df_filter.head()"
   ]
  },
  {
   "cell_type": "code",
   "execution_count": 21,
   "id": "1a8a4854",
   "metadata": {},
   "outputs": [
    {
     "data": {
      "text/html": [
       "<div>\n",
       "<style scoped>\n",
       "    .dataframe tbody tr th:only-of-type {\n",
       "        vertical-align: middle;\n",
       "    }\n",
       "\n",
       "    .dataframe tbody tr th {\n",
       "        vertical-align: top;\n",
       "    }\n",
       "\n",
       "    .dataframe thead th {\n",
       "        text-align: right;\n",
       "    }\n",
       "</style>\n",
       "<table border=\"1\" class=\"dataframe\">\n",
       "  <thead>\n",
       "    <tr style=\"text-align: right;\">\n",
       "      <th></th>\n",
       "      <th>pixel_0</th>\n",
       "      <th>pixel_1</th>\n",
       "      <th>pixel_2</th>\n",
       "      <th>pixel_3</th>\n",
       "      <th>pixel_4</th>\n",
       "      <th>pixel_5</th>\n",
       "      <th>pixel_6</th>\n",
       "      <th>pixel_7</th>\n",
       "      <th>pixel_8</th>\n",
       "      <th>pixel_9</th>\n",
       "      <th>...</th>\n",
       "      <th>pixel_89990</th>\n",
       "      <th>pixel_89991</th>\n",
       "      <th>pixel_89992</th>\n",
       "      <th>pixel_89993</th>\n",
       "      <th>pixel_89994</th>\n",
       "      <th>pixel_89995</th>\n",
       "      <th>pixel_89996</th>\n",
       "      <th>pixel_89997</th>\n",
       "      <th>pixel_89998</th>\n",
       "      <th>pixel_89999</th>\n",
       "    </tr>\n",
       "  </thead>\n",
       "  <tbody>\n",
       "    <tr>\n",
       "      <th>0</th>\n",
       "      <td>255</td>\n",
       "      <td>255</td>\n",
       "      <td>255</td>\n",
       "      <td>255</td>\n",
       "      <td>255</td>\n",
       "      <td>255</td>\n",
       "      <td>255</td>\n",
       "      <td>253</td>\n",
       "      <td>253</td>\n",
       "      <td>253</td>\n",
       "      <td>...</td>\n",
       "      <td>98</td>\n",
       "      <td>110</td>\n",
       "      <td>106</td>\n",
       "      <td>116</td>\n",
       "      <td>112</td>\n",
       "      <td>105</td>\n",
       "      <td>105</td>\n",
       "      <td>105</td>\n",
       "      <td>94</td>\n",
       "      <td>81</td>\n",
       "    </tr>\n",
       "    <tr>\n",
       "      <th>2</th>\n",
       "      <td>253</td>\n",
       "      <td>253</td>\n",
       "      <td>254</td>\n",
       "      <td>254</td>\n",
       "      <td>254</td>\n",
       "      <td>254</td>\n",
       "      <td>254</td>\n",
       "      <td>254</td>\n",
       "      <td>252</td>\n",
       "      <td>252</td>\n",
       "      <td>...</td>\n",
       "      <td>22</td>\n",
       "      <td>23</td>\n",
       "      <td>25</td>\n",
       "      <td>24</td>\n",
       "      <td>22</td>\n",
       "      <td>23</td>\n",
       "      <td>24</td>\n",
       "      <td>24</td>\n",
       "      <td>24</td>\n",
       "      <td>24</td>\n",
       "    </tr>\n",
       "    <tr>\n",
       "      <th>3</th>\n",
       "      <td>114</td>\n",
       "      <td>120</td>\n",
       "      <td>120</td>\n",
       "      <td>113</td>\n",
       "      <td>110</td>\n",
       "      <td>115</td>\n",
       "      <td>110</td>\n",
       "      <td>101</td>\n",
       "      <td>100</td>\n",
       "      <td>95</td>\n",
       "      <td>...</td>\n",
       "      <td>69</td>\n",
       "      <td>68</td>\n",
       "      <td>68</td>\n",
       "      <td>69</td>\n",
       "      <td>69</td>\n",
       "      <td>71</td>\n",
       "      <td>70</td>\n",
       "      <td>72</td>\n",
       "      <td>68</td>\n",
       "      <td>68</td>\n",
       "    </tr>\n",
       "    <tr>\n",
       "      <th>6</th>\n",
       "      <td>253</td>\n",
       "      <td>253</td>\n",
       "      <td>254</td>\n",
       "      <td>254</td>\n",
       "      <td>254</td>\n",
       "      <td>254</td>\n",
       "      <td>254</td>\n",
       "      <td>254</td>\n",
       "      <td>252</td>\n",
       "      <td>252</td>\n",
       "      <td>...</td>\n",
       "      <td>80</td>\n",
       "      <td>82</td>\n",
       "      <td>79</td>\n",
       "      <td>80</td>\n",
       "      <td>85</td>\n",
       "      <td>82</td>\n",
       "      <td>81</td>\n",
       "      <td>83</td>\n",
       "      <td>85</td>\n",
       "      <td>87</td>\n",
       "    </tr>\n",
       "    <tr>\n",
       "      <th>8</th>\n",
       "      <td>253</td>\n",
       "      <td>253</td>\n",
       "      <td>253</td>\n",
       "      <td>253</td>\n",
       "      <td>254</td>\n",
       "      <td>254</td>\n",
       "      <td>254</td>\n",
       "      <td>253</td>\n",
       "      <td>251</td>\n",
       "      <td>252</td>\n",
       "      <td>...</td>\n",
       "      <td>28</td>\n",
       "      <td>28</td>\n",
       "      <td>28</td>\n",
       "      <td>27</td>\n",
       "      <td>25</td>\n",
       "      <td>27</td>\n",
       "      <td>27</td>\n",
       "      <td>27</td>\n",
       "      <td>28</td>\n",
       "      <td>28</td>\n",
       "    </tr>\n",
       "  </tbody>\n",
       "</table>\n",
       "<p>5 rows × 90000 columns</p>\n",
       "</div>"
      ],
      "text/plain": [
       "   pixel_0  pixel_1  pixel_2  pixel_3  pixel_4  pixel_5  pixel_6  pixel_7  \\\n",
       "0      255      255      255      255      255      255      255      253   \n",
       "2      253      253      254      254      254      254      254      254   \n",
       "3      114      120      120      113      110      115      110      101   \n",
       "6      253      253      254      254      254      254      254      254   \n",
       "8      253      253      253      253      254      254      254      253   \n",
       "\n",
       "   pixel_8  pixel_9  ...  pixel_89990  pixel_89991  pixel_89992  pixel_89993  \\\n",
       "0      253      253  ...           98          110          106          116   \n",
       "2      252      252  ...           22           23           25           24   \n",
       "3      100       95  ...           69           68           68           69   \n",
       "6      252      252  ...           80           82           79           80   \n",
       "8      251      252  ...           28           28           28           27   \n",
       "\n",
       "   pixel_89994  pixel_89995  pixel_89996  pixel_89997  pixel_89998  \\\n",
       "0          112          105          105          105           94   \n",
       "2           22           23           24           24           24   \n",
       "3           69           71           70           72           68   \n",
       "6           85           82           81           83           85   \n",
       "8           25           27           27           27           28   \n",
       "\n",
       "   pixel_89999  \n",
       "0           81  \n",
       "2           24  \n",
       "3           68  \n",
       "6           87  \n",
       "8           28  \n",
       "\n",
       "[5 rows x 90000 columns]"
      ]
     },
     "execution_count": 21,
     "metadata": {},
     "output_type": "execute_result"
    }
   ],
   "source": [
    "data = df_filter['data'].apply(pd.Series)\n",
    "data.columns = [f\"pixel_{i}\" for i in data.columns]\n",
    "data.head()"
   ]
  },
  {
   "cell_type": "markdown",
   "id": "e89deb4a",
   "metadata": {},
   "source": [
    "# Data Normalization"
   ]
  },
  {
   "cell_type": "code",
   "execution_count": 22,
   "id": "fb8f8cc4",
   "metadata": {},
   "outputs": [
    {
     "data": {
      "text/html": [
       "<div>\n",
       "<style scoped>\n",
       "    .dataframe tbody tr th:only-of-type {\n",
       "        vertical-align: middle;\n",
       "    }\n",
       "\n",
       "    .dataframe tbody tr th {\n",
       "        vertical-align: top;\n",
       "    }\n",
       "\n",
       "    .dataframe thead th {\n",
       "        text-align: right;\n",
       "    }\n",
       "</style>\n",
       "<table border=\"1\" class=\"dataframe\">\n",
       "  <thead>\n",
       "    <tr style=\"text-align: right;\">\n",
       "      <th></th>\n",
       "      <th>pixel_0</th>\n",
       "      <th>pixel_1</th>\n",
       "      <th>pixel_2</th>\n",
       "      <th>pixel_3</th>\n",
       "      <th>pixel_4</th>\n",
       "      <th>pixel_5</th>\n",
       "      <th>pixel_6</th>\n",
       "      <th>pixel_7</th>\n",
       "      <th>pixel_8</th>\n",
       "      <th>pixel_9</th>\n",
       "      <th>...</th>\n",
       "      <th>pixel_89991</th>\n",
       "      <th>pixel_89992</th>\n",
       "      <th>pixel_89993</th>\n",
       "      <th>pixel_89994</th>\n",
       "      <th>pixel_89995</th>\n",
       "      <th>pixel_89996</th>\n",
       "      <th>pixel_89997</th>\n",
       "      <th>pixel_89998</th>\n",
       "      <th>pixel_89999</th>\n",
       "      <th>status</th>\n",
       "    </tr>\n",
       "  </thead>\n",
       "  <tbody>\n",
       "    <tr>\n",
       "      <th>0</th>\n",
       "      <td>1.000000</td>\n",
       "      <td>1.000000</td>\n",
       "      <td>1.000000</td>\n",
       "      <td>1.000000</td>\n",
       "      <td>1.000000</td>\n",
       "      <td>1.000000</td>\n",
       "      <td>1.000000</td>\n",
       "      <td>0.992157</td>\n",
       "      <td>0.992157</td>\n",
       "      <td>0.992157</td>\n",
       "      <td>...</td>\n",
       "      <td>0.431373</td>\n",
       "      <td>0.415686</td>\n",
       "      <td>0.454902</td>\n",
       "      <td>0.439216</td>\n",
       "      <td>0.411765</td>\n",
       "      <td>0.411765</td>\n",
       "      <td>0.411765</td>\n",
       "      <td>0.368627</td>\n",
       "      <td>0.317647</td>\n",
       "      <td>empty</td>\n",
       "    </tr>\n",
       "    <tr>\n",
       "      <th>2</th>\n",
       "      <td>0.992157</td>\n",
       "      <td>0.992157</td>\n",
       "      <td>0.996078</td>\n",
       "      <td>0.996078</td>\n",
       "      <td>0.996078</td>\n",
       "      <td>0.996078</td>\n",
       "      <td>0.996078</td>\n",
       "      <td>0.996078</td>\n",
       "      <td>0.988235</td>\n",
       "      <td>0.988235</td>\n",
       "      <td>...</td>\n",
       "      <td>0.090196</td>\n",
       "      <td>0.098039</td>\n",
       "      <td>0.094118</td>\n",
       "      <td>0.086275</td>\n",
       "      <td>0.090196</td>\n",
       "      <td>0.094118</td>\n",
       "      <td>0.094118</td>\n",
       "      <td>0.094118</td>\n",
       "      <td>0.094118</td>\n",
       "      <td>empty</td>\n",
       "    </tr>\n",
       "    <tr>\n",
       "      <th>3</th>\n",
       "      <td>0.447059</td>\n",
       "      <td>0.470588</td>\n",
       "      <td>0.470588</td>\n",
       "      <td>0.443137</td>\n",
       "      <td>0.431373</td>\n",
       "      <td>0.450980</td>\n",
       "      <td>0.431373</td>\n",
       "      <td>0.396078</td>\n",
       "      <td>0.392157</td>\n",
       "      <td>0.372549</td>\n",
       "      <td>...</td>\n",
       "      <td>0.266667</td>\n",
       "      <td>0.266667</td>\n",
       "      <td>0.270588</td>\n",
       "      <td>0.270588</td>\n",
       "      <td>0.278431</td>\n",
       "      <td>0.274510</td>\n",
       "      <td>0.282353</td>\n",
       "      <td>0.266667</td>\n",
       "      <td>0.266667</td>\n",
       "      <td>empty</td>\n",
       "    </tr>\n",
       "    <tr>\n",
       "      <th>6</th>\n",
       "      <td>0.992157</td>\n",
       "      <td>0.992157</td>\n",
       "      <td>0.996078</td>\n",
       "      <td>0.996078</td>\n",
       "      <td>0.996078</td>\n",
       "      <td>0.996078</td>\n",
       "      <td>0.996078</td>\n",
       "      <td>0.996078</td>\n",
       "      <td>0.988235</td>\n",
       "      <td>0.988235</td>\n",
       "      <td>...</td>\n",
       "      <td>0.321569</td>\n",
       "      <td>0.309804</td>\n",
       "      <td>0.313725</td>\n",
       "      <td>0.333333</td>\n",
       "      <td>0.321569</td>\n",
       "      <td>0.317647</td>\n",
       "      <td>0.325490</td>\n",
       "      <td>0.333333</td>\n",
       "      <td>0.341176</td>\n",
       "      <td>empty</td>\n",
       "    </tr>\n",
       "    <tr>\n",
       "      <th>8</th>\n",
       "      <td>0.992157</td>\n",
       "      <td>0.992157</td>\n",
       "      <td>0.992157</td>\n",
       "      <td>0.992157</td>\n",
       "      <td>0.996078</td>\n",
       "      <td>0.996078</td>\n",
       "      <td>0.996078</td>\n",
       "      <td>0.992157</td>\n",
       "      <td>0.984314</td>\n",
       "      <td>0.988235</td>\n",
       "      <td>...</td>\n",
       "      <td>0.109804</td>\n",
       "      <td>0.109804</td>\n",
       "      <td>0.105882</td>\n",
       "      <td>0.098039</td>\n",
       "      <td>0.105882</td>\n",
       "      <td>0.105882</td>\n",
       "      <td>0.105882</td>\n",
       "      <td>0.109804</td>\n",
       "      <td>0.109804</td>\n",
       "      <td>empty</td>\n",
       "    </tr>\n",
       "  </tbody>\n",
       "</table>\n",
       "<p>5 rows × 90001 columns</p>\n",
       "</div>"
      ],
      "text/plain": [
       "    pixel_0   pixel_1   pixel_2   pixel_3   pixel_4   pixel_5   pixel_6  \\\n",
       "0  1.000000  1.000000  1.000000  1.000000  1.000000  1.000000  1.000000   \n",
       "2  0.992157  0.992157  0.996078  0.996078  0.996078  0.996078  0.996078   \n",
       "3  0.447059  0.470588  0.470588  0.443137  0.431373  0.450980  0.431373   \n",
       "6  0.992157  0.992157  0.996078  0.996078  0.996078  0.996078  0.996078   \n",
       "8  0.992157  0.992157  0.992157  0.992157  0.996078  0.996078  0.996078   \n",
       "\n",
       "    pixel_7   pixel_8   pixel_9  ...  pixel_89991  pixel_89992  pixel_89993  \\\n",
       "0  0.992157  0.992157  0.992157  ...     0.431373     0.415686     0.454902   \n",
       "2  0.996078  0.988235  0.988235  ...     0.090196     0.098039     0.094118   \n",
       "3  0.396078  0.392157  0.372549  ...     0.266667     0.266667     0.270588   \n",
       "6  0.996078  0.988235  0.988235  ...     0.321569     0.309804     0.313725   \n",
       "8  0.992157  0.984314  0.988235  ...     0.109804     0.109804     0.105882   \n",
       "\n",
       "   pixel_89994  pixel_89995  pixel_89996  pixel_89997  pixel_89998  \\\n",
       "0     0.439216     0.411765     0.411765     0.411765     0.368627   \n",
       "2     0.086275     0.090196     0.094118     0.094118     0.094118   \n",
       "3     0.270588     0.278431     0.274510     0.282353     0.266667   \n",
       "6     0.333333     0.321569     0.317647     0.325490     0.333333   \n",
       "8     0.098039     0.105882     0.105882     0.105882     0.109804   \n",
       "\n",
       "   pixel_89999  status  \n",
       "0     0.317647   empty  \n",
       "2     0.094118   empty  \n",
       "3     0.266667   empty  \n",
       "6     0.341176   empty  \n",
       "8     0.109804   empty  \n",
       "\n",
       "[5 rows x 90001 columns]"
      ]
     },
     "execution_count": 22,
     "metadata": {},
     "output_type": "execute_result"
    }
   ],
   "source": [
    "# since for 8 bit image max value is 255 \n",
    "# therefore we are dividing each and every pixel with 255\n",
    "data = data/255.0 \n",
    "data['status'] = df_filter['status']\n",
    "data.head()"
   ]
  },
  {
   "cell_type": "code",
   "execution_count": 23,
   "id": "e0759081",
   "metadata": {},
   "outputs": [
    {
     "data": {
      "text/plain": [
       "(2784, 90001)"
      ]
     },
     "execution_count": 23,
     "metadata": {},
     "output_type": "execute_result"
    }
   ],
   "source": [
    "data.shape"
   ]
  },
  {
   "cell_type": "markdown",
   "id": "28d1cf12",
   "metadata": {},
   "source": [
    "# Save the Data"
   ]
  },
  {
   "cell_type": "code",
   "execution_count": 29,
   "id": "ddea58d0",
   "metadata": {},
   "outputs": [],
   "source": [
    "import pickle"
   ]
  },
  {
   "cell_type": "code",
   "execution_count": 30,
   "id": "a2e90cc8",
   "metadata": {},
   "outputs": [
    {
     "ename": "MemoryError",
     "evalue": "",
     "output_type": "error",
     "traceback": [
      "\u001b[1;31m---------------------------------------------------------------------------\u001b[0m",
      "\u001b[1;31mMemoryError\u001b[0m                               Traceback (most recent call last)",
      "Cell \u001b[1;32mIn[30], line 1\u001b[0m\n\u001b[1;32m----> 1\u001b[0m \u001b[43mpickle\u001b[49m\u001b[38;5;241;43m.\u001b[39;49m\u001b[43mdump\u001b[49m\u001b[43m(\u001b[49m\u001b[43mdata\u001b[49m\u001b[43m,\u001b[49m\u001b[38;5;28;43mopen\u001b[39;49m\u001b[43m(\u001b[49m\u001b[38;5;124;43m'\u001b[39;49m\u001b[38;5;124;43m./data/data_images_300_300.pickle\u001b[39;49m\u001b[38;5;124;43m'\u001b[39;49m\u001b[43m,\u001b[49m\u001b[43mmode\u001b[49m\u001b[38;5;241;43m=\u001b[39;49m\u001b[38;5;124;43m'\u001b[39;49m\u001b[38;5;124;43mwb\u001b[39;49m\u001b[38;5;124;43m'\u001b[39;49m\u001b[43m)\u001b[49m\u001b[43m)\u001b[49m\n",
      "\u001b[1;31mMemoryError\u001b[0m: "
     ]
    }
   ],
   "source": [
    "pickle.dump(data,open('./data/data_images_300_300.pickle',mode='wb'))"
   ]
  },
  {
   "cell_type": "markdown",
   "id": "fa8ac7e0",
   "metadata": {},
   "source": [
    "---\n",
    "### END"
   ]
  }
 ],
 "metadata": {
  "kernelspec": {
   "display_name": "Python 3 (ipykernel)",
   "language": "python",
   "name": "python3"
  },
  "language_info": {
   "codemirror_mode": {
    "name": "ipython",
    "version": 3
   },
   "file_extension": ".py",
   "mimetype": "text/x-python",
   "name": "python",
   "nbconvert_exporter": "python",
   "pygments_lexer": "ipython3",
   "version": "3.10.9"
  }
 },
 "nbformat": 4,
 "nbformat_minor": 5
}
